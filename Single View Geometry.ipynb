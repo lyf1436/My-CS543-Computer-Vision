{
 "cells": [
  {
   "cell_type": "markdown",
   "metadata": {},
   "source": [
    "# Part 3: Single-View Geometry\n",
    "\n",
    "## Usage\n",
    "This code snippet provides an overall code structure and some interactive plot interfaces for the *Single-View Geometry* section of Assignment 3. In [main function](#Main-function), we outline the required functionalities step by step. Some of the functions which involves interactive plots are already provided, but [the rest](#Your-implementation) are left for you to implement.\n",
    "\n",
    "## Package installation\n",
    "- In this code, we use `tkinter` package. Installation instruction can be found [here](https://anaconda.org/anaconda/tk)."
   ]
  },
  {
   "cell_type": "markdown",
   "metadata": {},
   "source": [
    "# Common imports"
   ]
  },
  {
   "cell_type": "code",
   "execution_count": 18,
   "metadata": {},
   "outputs": [],
   "source": [
    "\n",
    "%matplotlib tk\n",
    "import matplotlib.pyplot as plt\n",
    "import numpy as np\n",
    "\n",
    "from PIL import Image"
   ]
  },
  {
   "cell_type": "code",
   "execution_count": 19,
   "metadata": {},
   "outputs": [
    {
     "name": "stdout",
     "output_type": "stream",
     "text": [
      "hello\n"
     ]
    }
   ],
   "source": [
    "print(\"hello\")"
   ]
  },
  {
   "cell_type": "markdown",
   "metadata": {},
   "source": [
    "# Provided functions"
   ]
  },
  {
   "cell_type": "code",
   "execution_count": 20,
   "metadata": {},
   "outputs": [],
   "source": [
    "def get_input_lines(im, min_lines=3):\n",
    "    \"\"\"\n",
    "    Allows user to input line segments; computes centers and directions.\n",
    "    Inputs:\n",
    "        im: np.ndarray of shape (height, width, 3)\n",
    "        min_lines: minimum number of lines required\n",
    "    Returns:\n",
    "        n: number of lines from input\n",
    "        lines: np.ndarray of shape (3, n)\n",
    "            where each column denotes the parameters of the line equation\n",
    "        centers: np.ndarray of shape (3, n)\n",
    "            where each column denotes the homogeneous coordinates of the centers\n",
    "    \"\"\"\n",
    "    n = 0\n",
    "    lines = np.zeros((3, 0))\n",
    "    centers = np.zeros((3, 0))\n",
    "\n",
    "    plt.figure()\n",
    "    plt.imshow(im)\n",
    "    plt.show()\n",
    "    print('Set at least %d lines to compute vanishing point' % min_lines)\n",
    "    while True:\n",
    "        print('Click the two endpoints, use the right key to undo, and use the middle key to stop input')\n",
    "        clicked = plt.ginput(2, timeout=0, show_clicks=True)\n",
    "        if not clicked or len(clicked) < 2:\n",
    "            if n < min_lines:\n",
    "                print('Need at least %d lines, you have %d now' % (min_lines, n))\n",
    "                continue\n",
    "            else:\n",
    "                # Stop getting lines if number of lines is enough\n",
    "                break\n",
    "\n",
    "        # Unpack user inputs and save as homogeneous coordinates\n",
    "        pt1 = np.array([clicked[0][0], clicked[0][1], 1])\n",
    "        pt2 = np.array([clicked[1][0], clicked[1][1], 1])\n",
    "        # Get line equation using cross product\n",
    "        # Line equation: line[0] * x + line[1] * y + line[2] = 0\n",
    "        line = np.cross(pt1, pt2)\n",
    "        lines = np.append(lines, line.reshape((3, 1)), axis=1)\n",
    "        # Get center coordinate of the line segment\n",
    "        center = (pt1 + pt2) / 2\n",
    "        centers = np.append(centers, center.reshape((3, 1)), axis=1)\n",
    "\n",
    "        # Plot line segment\n",
    "        plt.plot([pt1[0], pt2[0]], [pt1[1], pt2[1]], color='b')\n",
    "\n",
    "        n += 1\n",
    "\n",
    "    return n, lines, centers"
   ]
  },
  {
   "cell_type": "code",
   "execution_count": 4,
   "metadata": {},
   "outputs": [],
   "source": [
    "def plot_lines_and_vp(im, lines, vp):\n",
    "    \"\"\"\n",
    "    Plots user-input lines and the calculated vanishing point.\n",
    "    Inputs:\n",
    "        im: np.ndarray of shape (height, width, 3)\n",
    "        lines: np.ndarray of shape (3, n)\n",
    "            where each column denotes the parameters of the line equation\n",
    "        vp: np.ndarray of shape (3, )\n",
    "    \"\"\"\n",
    "    bx1 = min(1, vp[0] / vp[2]) - 10\n",
    "    bx2 = max(im.shape[1], vp[0] / vp[2]) + 10\n",
    "    by1 = min(1, vp[1] / vp[2]) - 10\n",
    "    by2 = max(im.shape[0], vp[1] / vp[2]) + 10\n",
    "\n",
    "    plt.figure()\n",
    "    plt.imshow(im)\n",
    "    for i in range(lines.shape[1]):\n",
    "        if lines[0, i] < lines[1, i]:\n",
    "            pt1 = np.cross(np.array([1, 0, -bx1]), lines[:, i])\n",
    "            pt2 = np.cross(np.array([1, 0, -bx2]), lines[:, i])\n",
    "        else:\n",
    "            pt1 = np.cross(np.array([0, 1, -by1]), lines[:, i])\n",
    "            pt2 = np.cross(np.array([0, 1, -by2]), lines[:, i])\n",
    "        pt1 = pt1 / pt1[2]\n",
    "        pt2 = pt2 / pt2[2]\n",
    "        plt.plot([pt1[0], pt2[0]], [pt1[1], pt2[1]], 'g')\n",
    "\n",
    "    plt.plot(vp[0] / vp[2], vp[1] / vp[2], 'ro')\n",
    "    plt.show()"
   ]
  },
  {
   "cell_type": "code",
   "execution_count": 5,
   "metadata": {},
   "outputs": [],
   "source": [
    "def get_top_and_bottom_coordinates(im, obj):\n",
    "    \"\"\"\n",
    "    For a specific object, prompts user to record the top coordinate and the bottom coordinate in the image.\n",
    "    Inputs:\n",
    "        im: np.ndarray of shape (height, width, 3)\n",
    "        obj: string, object name\n",
    "    Returns:\n",
    "        coord: np.ndarray of shape (3, 2)\n",
    "            where coord[:, 0] is the homogeneous coordinate of the top of the object and coord[:, 1] is the homogeneous\n",
    "            coordinate of the bottom\n",
    "    \"\"\"\n",
    "    plt.figure()\n",
    "    plt.imshow(im)\n",
    "\n",
    "    print('Click on the top coordinate of %s' % obj)\n",
    "    clicked = plt.ginput(1, timeout=0, show_clicks=True)\n",
    "    x1, y1 = clicked[0]\n",
    "    # Uncomment this line to enable a vertical line to help align the two coordinates\n",
    "    # plt.plot([x1, x1], [0, im.shape[0]], 'b')\n",
    "    print('Click on the bottom coordinate of %s' % obj)\n",
    "    clicked = plt.ginput(1, timeout=0, show_clicks=True)\n",
    "    x2, y2 = clicked[0]\n",
    "\n",
    "    plt.plot([x1, x2], [y1, y2], 'b')\n",
    "\n",
    "    return np.array([[x1, x2], [y1, y2], [1, 1]])"
   ]
  },
  {
   "cell_type": "markdown",
   "metadata": {},
   "source": [
    "# Your implementation"
   ]
  },
  {
   "cell_type": "code",
   "execution_count": 6,
   "metadata": {},
   "outputs": [],
   "source": [
    "import numpy as np\n",
    "def get_vanishing_point(lines):\n",
    "    \"\"\"\n",
    "    Solves for the vanishing point using the user-input lines.\n",
    "    \"\"\"\n",
    "    n = lines.shape[1]\n",
    "    num_intersects = n * (n-1) / 2\n",
    "    intersects_all = []\n",
    "    for i in range(1, n):\n",
    "        for j in range(i):\n",
    "            cros = np.cross(lines[:,i], lines[:,j])\n",
    "            cros = cros / cros[2]\n",
    "            intersects_all.append(cros)\n",
    "    \n",
    "    intersects_all = np.array(intersects_all)\n",
    "    print(intersects_all)\n",
    "    return np.mean(intersects_all, axis=0)"
   ]
  },
  {
   "cell_type": "code",
   "execution_count": 14,
   "metadata": {},
   "outputs": [],
   "source": [
    "import numpy.linalg as la\n",
    "def get_horizon_line(vanishing_points):\n",
    "    \"\"\"\n",
    "    Calculates the ground horizon line.\n",
    "    \"\"\"\n",
    "    horizon_line = np.cross(vanishing_points[:,0], vanishing_points[:,2])\n",
    "    horizon_line = horizon_line / la.norm(horizon_line[:2])\n",
    "    \n",
    "    return horizon_line"
   ]
  },
  {
   "cell_type": "code",
   "execution_count": 8,
   "metadata": {},
   "outputs": [],
   "source": [
    "def plot_horizon_line(im, horizon_line):\n",
    "    \"\"\"\n",
    "    Plots the horizon line.\n",
    "    \"\"\"\n",
    "    # <YOUR IMPLEMENTATION>\n",
    "    plt.figure()\n",
    "    plt.imshow(im)\n",
    "    plt.show()\n",
    "    #ax + by + c = 0\n",
    "    #y=-c-ax / b\n",
    "    a,b,c = horizon_line\n",
    "    height, width, channel = im.shape\n",
    "    x = np.array([0, width])\n",
    "    y = (-1 * c - a * x) / b\n",
    "    print(y)\n",
    "    plt.plot(x,y)\n",
    "    plt.show()"
   ]
  },
  {
   "cell_type": "code",
   "execution_count": 34,
   "metadata": {},
   "outputs": [],
   "source": [
    "import numpy.linalg as la\n",
    "def get_camera_parameters(vpts):\n",
    "    \"\"\"\n",
    "    Computes the camera parameters. Hint: The SymPy package is suitable for this.\n",
    "    \"\"\"\n",
    "    X = np.ones((3,3))\n",
    "    vp0 = vpts[:-1,0]\n",
    "    vp1 = vpts[:-1,1]\n",
    "    vp2 = vpts[:-1,2]\n",
    "    vp01_sum = vp0 + vp1\n",
    "    vp02_sum = vp0 + vp2\n",
    "    vp12_sum = vp1 + vp2\n",
    "    vp01_product = vp0 * vp1\n",
    "    vp02_product = vp0 * vp2\n",
    "    vp12_product = vp1 * vp2\n",
    "\n",
    "    X[:,0] = np.array([vp01_sum[0], vp02_sum[0], vp12_sum[0]])\n",
    "    X[:,1] = np.array([vp01_sum[1], vp02_sum[1], vp12_sum[1]])\n",
    "    rhs = np.array([-1*vp01_product[0] - vp01_product[1], -1*vp02_product[0] - vp02_product[1], -1*vp12_product[0] - vp12_product[1]])\n",
    "    u,v,f = la.solve(X, rhs)\n",
    "    u = -1 * u\n",
    "    v = -1 * v\n",
    "    f = (f - u**2 - v**2)**0.5\n",
    "    return f, u, v\n",
    "\n",
    "    pass"
   ]
  },
  {
   "cell_type": "code",
   "execution_count": 10,
   "metadata": {},
   "outputs": [],
   "source": [
    "def get_rotation_matrix(f,u,v, vpts):\n",
    "    \"\"\"\n",
    "    Computes the rotation matrix using the camera parameters.\n",
    "    \"\"\"\n",
    "    #vpts = left, right, vertical\n",
    "    K = np.array([[f,0,u],[0,f,v],[0,0,1]])\n",
    "    R = la.inv(K) @ vpts\n",
    "    norm = la.norm(R, axis=0)\n",
    "    R[:,0] = R[:,0] / norm[0]\n",
    "    R[:,1] = R[:,1] / norm[1]\n",
    "    R[:,2] = R[:,2] / norm[2]\n",
    "    return R"
   ]
  },
  {
   "cell_type": "code",
   "execution_count": 39,
   "metadata": {},
   "outputs": [],
   "source": [
    "def estimate_height(reference_pos, vpts, pos, reference_height):\n",
    "    \"\"\"\n",
    "    Estimates height for a specific object using the recorded coordinates. You might need to plot additional images here for\n",
    "    your report.\n",
    "    \"\"\"\n",
    "    v = np.cross(np.cross(pos[:,1], reference_pos[:,1]),np.cross(vpts[:,2], vpts[:,0]))\n",
    "    v = v / v[2]\n",
    "    t = np.cross(np.cross(v, reference_pos[:,0]), np.cross(pos[:,0], pos[:,1]))\n",
    "    t = t / t[2]\n",
    "\n",
    "    t_minus_b = la.norm(t - pos[:,1])\n",
    "    r_minus_b = la.norm(pos[:,0] - pos[:,1])\n",
    "    vvertical_minus_r = la.norm(vpts[:,1] - pos[:,0])\n",
    "    vvertical_minus_t = la.norm(vpts[:,1] - t)\n",
    "    height = reference_height * r_minus_b* vvertical_minus_t / (t_minus_b * vvertical_minus_r)\n",
    "    print(height)\n",
    "    return height\n",
    "    \n",
    "    \n",
    "    pass"
   ]
  },
  {
   "cell_type": "markdown",
   "metadata": {},
   "source": [
    "# Main function"
   ]
  },
  {
   "cell_type": "code",
   "execution_count": 27,
   "metadata": {},
   "outputs": [
    {
     "name": "stdout",
     "output_type": "stream",
     "text": [
      "input horizontal vanishing points first\n",
      "Getting vanishing point 0\n",
      "Set at least 3 lines to compute vanishing point\n",
      "Click the two endpoints, use the right key to undo, and use the middle key to stop input\n",
      "Click the two endpoints, use the right key to undo, and use the middle key to stop input\n",
      "Click the two endpoints, use the right key to undo, and use the middle key to stop input\n",
      "Click the two endpoints, use the right key to undo, and use the middle key to stop input\n",
      "[[1.35871909e+03 2.27280441e+02 1.00000000e+00]\n",
      " [1.35579986e+03 2.26724398e+02 1.00000000e+00]\n",
      " [1.35401920e+03 2.27356246e+02 1.00000000e+00]]\n",
      "Getting vanishing point 1\n",
      "Set at least 3 lines to compute vanishing point\n",
      "Click the two endpoints, use the right key to undo, and use the middle key to stop input\n",
      "Click the two endpoints, use the right key to undo, and use the middle key to stop input\n",
      "Click the two endpoints, use the right key to undo, and use the middle key to stop input\n",
      "Click the two endpoints, use the right key to undo, and use the middle key to stop input\n",
      "[[5.56825262e+02 4.01768998e+03 1.00000000e+00]\n",
      " [5.00915518e+02 4.80974467e+03 1.00000000e+00]\n",
      " [5.92039326e+02 5.70796506e+03 1.00000000e+00]]\n",
      "Getting vanishing point 2\n",
      "Set at least 3 lines to compute vanishing point\n",
      "Click the two endpoints, use the right key to undo, and use the middle key to stop input\n",
      "Click the two endpoints, use the right key to undo, and use the middle key to stop input\n",
      "Click the two endpoints, use the right key to undo, and use the middle key to stop input\n",
      "Click the two endpoints, use the right key to undo, and use the middle key to stop input\n",
      "[[-244.35418776  212.52671778    1.        ]\n",
      " [-201.52953043  209.34141269    1.        ]\n",
      " [-147.03552416  252.85213087    1.        ]]\n",
      "[225.1883161  226.64713104]\n"
     ]
    }
   ],
   "source": [
    "im = np.asarray(Image.open('CSL.jpg'))\n",
    "\n",
    "# Part 1\n",
    "# Get vanishing points for each of the directions\n",
    "num_vpts = 3\n",
    "vpts = np.zeros((3, num_vpts))\n",
    "print(\"input horizontal vanishing points first\")\n",
    "for i in range(num_vpts):\n",
    "    print('Getting vanishing point %d' % i)\n",
    "    # Get at least three lines from user input\n",
    "    n, lines, centers = get_input_lines(im)\n",
    "    # <YOUR IMPLEMENTATION> Solve for vanishing point\n",
    "    vpts[:, i] = get_vanishing_point(lines)\n",
    "    # Plot the lines and the vanishing point\n",
    "    plot_lines_and_vp(im, lines, vpts[:, i])\n",
    "\n",
    "# <YOUR IMPLEMENTATION> Get the ground horizon line\n",
    "horizon_line = get_horizon_line(vpts)\n",
    "# <YOUR IMPLEMENTATION> Plot the ground horizon line\n",
    "plot_horizon_line(im, horizon_line)\n"
   ]
  },
  {
   "cell_type": "code",
   "execution_count": 32,
   "metadata": {},
   "outputs": [
    {
     "name": "stdout",
     "output_type": "stream",
     "text": [
      "2.029549331133293e-06 0.9999979704506688\n",
      "[ 1.42462252e-03 -9.99998985e-01  2.25188088e+02]\n"
     ]
    }
   ],
   "source": [
    "horizon_line = get_horizon_line(vpts)\n",
    "print(horizon_line[0]**2 , horizon_line[1]**2)\n",
    "print(horizon_line)\n"
   ]
  },
  {
   "cell_type": "code",
   "execution_count": 44,
   "metadata": {},
   "outputs": [
    {
     "name": "stdout",
     "output_type": "stream",
     "text": [
      "765.5233269011928 556.3212597477082 356.53979633140676\n",
      "[[ 0.71755684 -0.00140434 -0.69649854]\n",
      " [-0.11610284  0.98576538 -0.12160075]\n",
      " [ 0.68675491  0.16812091  0.70717964]]\n",
      "Click on the top coordinate of person\n",
      "Click on the bottom coordinate of person\n",
      "Click on the top coordinate of CSL building\n",
      "Click on the bottom coordinate of CSL building\n",
      "Click on the top coordinate of the spike statue\n",
      "Click on the bottom coordinate of the spike statue\n",
      "Click on the top coordinate of the lamp posts\n",
      "Click on the bottom coordinate of the lamp posts\n",
      "Estimating height of CSL building\n",
      "81.86104709170603\n",
      "Estimating height of the spike statue\n",
      "30.934078167091275\n",
      "Estimating height of the lamp posts\n",
      "2.986133237121464\n"
     ]
    }
   ],
   "source": [
    "\n",
    "# Part 2\n",
    "# <YOUR IMPLEMENTATION> Solve for the camera parameters (f, u, v)\n",
    "f, u, v = get_camera_parameters(vpts)\n",
    "print(f, u, v)\n",
    "\n",
    "# Part 3\n",
    "# <YOUR IMPLEMENTATION> Solve for the rotation matrix\n",
    "R = get_rotation_matrix(f,u,v,vpts)\n",
    "print(R)\n",
    "# Part 4\n",
    "# Record image coordinates for each object and store in map\n",
    "objects = ('person', 'CSL building', 'the spike statue', 'the lamp posts')\n",
    "coords = dict()\n",
    "reference_height = 1.68\n",
    "for obj in objects:\n",
    "    coords[obj] = get_top_and_bottom_coordinates(im, obj)\n",
    "\n",
    "# <YOUR IMPLEMENTATION> Estimate heights\n",
    "for obj in objects[1:]:\n",
    "    print('Estimating height of %s' % obj)\n",
    "    height = estimate_height(coords['person'], vpts, coords[obj], reference_height)"
   ]
  },
  {
   "cell_type": "code",
   "execution_count": 82,
   "metadata": {},
   "outputs": [
    {
     "name": "stdout",
     "output_type": "stream",
     "text": [
      "[[2 0 3]\n",
      " [0 2 2]\n",
      " [0 0 1]]\n",
      "[[ 0.25  0.   -0.75]\n",
      " [ 0.    0.25 -0.5 ]\n",
      " [-0.75 -0.5   4.25]]\n"
     ]
    },
    {
     "data": {
      "text/plain": [
       "array([[ 8.13472176e-01,  5.54700196e-01, -1.74844821e-01],\n",
       "       [ 5.42314784e-01, -8.32050294e-01, -1.16563214e-01],\n",
       "       [ 2.10137322e-01, -7.71726946e-17,  9.77671880e-01]])"
      ]
     },
     "execution_count": 82,
     "metadata": {},
     "output_type": "execute_result"
    }
   ],
   "source": [
    "import scipy.linalg as sla\n",
    "a = np.array([[2,0,3],[0,2,2],[0,0,1]])\n",
    "print(a)\n",
    "b = la.inv(a)\n",
    "c = b.T @ b\n",
    "print(c)\n",
    "c = la.inv(c)\n",
    "lbd, E = la.eig(c)\n",
    "E"
   ]
  }
 ],
 "metadata": {
  "interpreter": {
   "hash": "0756fbfb138111ac35fd27ab6310f47ab325851363ce6d311205097523933479"
  },
  "kernelspec": {
   "display_name": "Python 3",
   "language": "python",
   "name": "python3"
  },
  "language_info": {
   "codemirror_mode": {
    "name": "ipython",
    "version": 3
   },
   "file_extension": ".py",
   "mimetype": "text/x-python",
   "name": "python",
   "nbconvert_exporter": "python",
   "pygments_lexer": "ipython3",
   "version": "3.8.5"
  }
 },
 "nbformat": 4,
 "nbformat_minor": 2
}
